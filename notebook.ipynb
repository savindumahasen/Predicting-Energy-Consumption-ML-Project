{
 "cells": [
  {
   "cell_type": "markdown",
   "id": "a1b14dea-013d-44e3-b66f-9a2020dcd369",
   "metadata": {},
   "source": [
    "# Predicting Energy Consuption Machine Learning Project"
   ]
  },
  {
   "cell_type": "code",
   "execution_count": 1,
   "id": "484acbd4-fdf4-435e-9741-44eb43dde80a",
   "metadata": {},
   "outputs": [],
   "source": [
    "##  import the necessary libraries"
   ]
  },
  {
   "cell_type": "code",
   "execution_count": 3,
   "id": "b1874c51-1dc5-4e22-bfca-3bc0771e200c",
   "metadata": {},
   "outputs": [],
   "source": [
    "import pandas as pd\n",
    "import numpy as np\n",
    "import matplotlib.pyplot as plt\n",
    "%matplotlib inline"
   ]
  },
  {
   "cell_type": "code",
   "execution_count": 5,
   "id": "55183781-2f2f-49f1-85a9-b4c4316e1ae2",
   "metadata": {},
   "outputs": [
    {
     "data": {
      "text/html": [
       "<div>\n",
       "<style scoped>\n",
       "    .dataframe tbody tr th:only-of-type {\n",
       "        vertical-align: middle;\n",
       "    }\n",
       "\n",
       "    .dataframe tbody tr th {\n",
       "        vertical-align: top;\n",
       "    }\n",
       "\n",
       "    .dataframe thead th {\n",
       "        text-align: right;\n",
       "    }\n",
       "</style>\n",
       "<table border=\"1\" class=\"dataframe\">\n",
       "  <thead>\n",
       "    <tr style=\"text-align: right;\">\n",
       "      <th></th>\n",
       "      <th>Building Type</th>\n",
       "      <th>Square Footage</th>\n",
       "      <th>Number of Occupants</th>\n",
       "      <th>Appliances Used</th>\n",
       "      <th>Average Temperature</th>\n",
       "      <th>Day of Week</th>\n",
       "      <th>Energy Consumption</th>\n",
       "    </tr>\n",
       "  </thead>\n",
       "  <tbody>\n",
       "    <tr>\n",
       "      <th>0</th>\n",
       "      <td>Residential</td>\n",
       "      <td>7063</td>\n",
       "      <td>76</td>\n",
       "      <td>10</td>\n",
       "      <td>29.84</td>\n",
       "      <td>Weekday</td>\n",
       "      <td>2713.95</td>\n",
       "    </tr>\n",
       "    <tr>\n",
       "      <th>1</th>\n",
       "      <td>Commercial</td>\n",
       "      <td>44372</td>\n",
       "      <td>66</td>\n",
       "      <td>45</td>\n",
       "      <td>16.72</td>\n",
       "      <td>Weekday</td>\n",
       "      <td>5744.99</td>\n",
       "    </tr>\n",
       "    <tr>\n",
       "      <th>2</th>\n",
       "      <td>Industrial</td>\n",
       "      <td>19255</td>\n",
       "      <td>37</td>\n",
       "      <td>17</td>\n",
       "      <td>14.30</td>\n",
       "      <td>Weekend</td>\n",
       "      <td>4101.24</td>\n",
       "    </tr>\n",
       "    <tr>\n",
       "      <th>3</th>\n",
       "      <td>Residential</td>\n",
       "      <td>13265</td>\n",
       "      <td>14</td>\n",
       "      <td>41</td>\n",
       "      <td>32.82</td>\n",
       "      <td>Weekday</td>\n",
       "      <td>3009.14</td>\n",
       "    </tr>\n",
       "    <tr>\n",
       "      <th>4</th>\n",
       "      <td>Commercial</td>\n",
       "      <td>13375</td>\n",
       "      <td>26</td>\n",
       "      <td>18</td>\n",
       "      <td>11.92</td>\n",
       "      <td>Weekday</td>\n",
       "      <td>3279.17</td>\n",
       "    </tr>\n",
       "  </tbody>\n",
       "</table>\n",
       "</div>"
      ],
      "text/plain": [
       "  Building Type  Square Footage  Number of Occupants  Appliances Used  \\\n",
       "0   Residential            7063                   76               10   \n",
       "1    Commercial           44372                   66               45   \n",
       "2    Industrial           19255                   37               17   \n",
       "3   Residential           13265                   14               41   \n",
       "4    Commercial           13375                   26               18   \n",
       "\n",
       "   Average Temperature Day of Week  Energy Consumption  \n",
       "0                29.84     Weekday             2713.95  \n",
       "1                16.72     Weekday             5744.99  \n",
       "2                14.30     Weekend             4101.24  \n",
       "3                32.82     Weekday             3009.14  \n",
       "4                11.92     Weekday             3279.17  "
      ]
     },
     "execution_count": 5,
     "metadata": {},
     "output_type": "execute_result"
    }
   ],
   "source": [
    "## Load the train set\n",
    "train_set=pd.read_csv(\"train_energy_data.csv\")\n",
    "train_set.head()"
   ]
  },
  {
   "cell_type": "code",
   "execution_count": 10,
   "id": "12eef0ce-fb70-4d15-a552-581f1f314e1a",
   "metadata": {},
   "outputs": [
    {
     "data": {
      "text/html": [
       "<div>\n",
       "<style scoped>\n",
       "    .dataframe tbody tr th:only-of-type {\n",
       "        vertical-align: middle;\n",
       "    }\n",
       "\n",
       "    .dataframe tbody tr th {\n",
       "        vertical-align: top;\n",
       "    }\n",
       "\n",
       "    .dataframe thead th {\n",
       "        text-align: right;\n",
       "    }\n",
       "</style>\n",
       "<table border=\"1\" class=\"dataframe\">\n",
       "  <thead>\n",
       "    <tr style=\"text-align: right;\">\n",
       "      <th></th>\n",
       "      <th>Building Type</th>\n",
       "      <th>Square Footage</th>\n",
       "      <th>Number of Occupants</th>\n",
       "      <th>Appliances Used</th>\n",
       "      <th>Average Temperature</th>\n",
       "      <th>Day of Week</th>\n",
       "      <th>Energy Consumption</th>\n",
       "    </tr>\n",
       "  </thead>\n",
       "  <tbody>\n",
       "    <tr>\n",
       "      <th>477</th>\n",
       "      <td>Commercial</td>\n",
       "      <td>39059</td>\n",
       "      <td>57</td>\n",
       "      <td>47</td>\n",
       "      <td>28.74</td>\n",
       "      <td>Weekend</td>\n",
       "      <td>5319.27</td>\n",
       "    </tr>\n",
       "    <tr>\n",
       "      <th>454</th>\n",
       "      <td>Industrial</td>\n",
       "      <td>12503</td>\n",
       "      <td>59</td>\n",
       "      <td>3</td>\n",
       "      <td>12.89</td>\n",
       "      <td>Weekend</td>\n",
       "      <td>3710.69</td>\n",
       "    </tr>\n",
       "    <tr>\n",
       "      <th>782</th>\n",
       "      <td>Industrial</td>\n",
       "      <td>21616</td>\n",
       "      <td>26</td>\n",
       "      <td>48</td>\n",
       "      <td>32.40</td>\n",
       "      <td>Weekday</td>\n",
       "      <td>4688.81</td>\n",
       "    </tr>\n",
       "    <tr>\n",
       "      <th>684</th>\n",
       "      <td>Residential</td>\n",
       "      <td>39163</td>\n",
       "      <td>12</td>\n",
       "      <td>44</td>\n",
       "      <td>10.73</td>\n",
       "      <td>Weekday</td>\n",
       "      <td>4454.51</td>\n",
       "    </tr>\n",
       "    <tr>\n",
       "      <th>994</th>\n",
       "      <td>Residential</td>\n",
       "      <td>26212</td>\n",
       "      <td>35</td>\n",
       "      <td>1</td>\n",
       "      <td>23.30</td>\n",
       "      <td>Weekend</td>\n",
       "      <td>3064.11</td>\n",
       "    </tr>\n",
       "    <tr>\n",
       "      <th>524</th>\n",
       "      <td>Industrial</td>\n",
       "      <td>1114</td>\n",
       "      <td>14</td>\n",
       "      <td>40</td>\n",
       "      <td>12.59</td>\n",
       "      <td>Weekend</td>\n",
       "      <td>3432.74</td>\n",
       "    </tr>\n",
       "    <tr>\n",
       "      <th>451</th>\n",
       "      <td>Commercial</td>\n",
       "      <td>22020</td>\n",
       "      <td>43</td>\n",
       "      <td>4</td>\n",
       "      <td>28.28</td>\n",
       "      <td>Weekday</td>\n",
       "      <td>3519.59</td>\n",
       "    </tr>\n",
       "    <tr>\n",
       "      <th>933</th>\n",
       "      <td>Commercial</td>\n",
       "      <td>31980</td>\n",
       "      <td>2</td>\n",
       "      <td>33</td>\n",
       "      <td>30.43</td>\n",
       "      <td>Weekend</td>\n",
       "      <td>4126.84</td>\n",
       "    </tr>\n",
       "    <tr>\n",
       "      <th>523</th>\n",
       "      <td>Residential</td>\n",
       "      <td>22292</td>\n",
       "      <td>25</td>\n",
       "      <td>43</td>\n",
       "      <td>24.55</td>\n",
       "      <td>Weekend</td>\n",
       "      <td>3601.83</td>\n",
       "    </tr>\n",
       "    <tr>\n",
       "      <th>932</th>\n",
       "      <td>Commercial</td>\n",
       "      <td>42152</td>\n",
       "      <td>47</td>\n",
       "      <td>21</td>\n",
       "      <td>27.70</td>\n",
       "      <td>Weekend</td>\n",
       "      <td>4859.08</td>\n",
       "    </tr>\n",
       "  </tbody>\n",
       "</table>\n",
       "</div>"
      ],
      "text/plain": [
       "    Building Type  Square Footage  Number of Occupants  Appliances Used  \\\n",
       "477    Commercial           39059                   57               47   \n",
       "454    Industrial           12503                   59                3   \n",
       "782    Industrial           21616                   26               48   \n",
       "684   Residential           39163                   12               44   \n",
       "994   Residential           26212                   35                1   \n",
       "524    Industrial            1114                   14               40   \n",
       "451    Commercial           22020                   43                4   \n",
       "933    Commercial           31980                    2               33   \n",
       "523   Residential           22292                   25               43   \n",
       "932    Commercial           42152                   47               21   \n",
       "\n",
       "     Average Temperature Day of Week  Energy Consumption  \n",
       "477                28.74     Weekend             5319.27  \n",
       "454                12.89     Weekend             3710.69  \n",
       "782                32.40     Weekday             4688.81  \n",
       "684                10.73     Weekday             4454.51  \n",
       "994                23.30     Weekend             3064.11  \n",
       "524                12.59     Weekend             3432.74  \n",
       "451                28.28     Weekday             3519.59  \n",
       "933                30.43     Weekend             4126.84  \n",
       "523                24.55     Weekend             3601.83  \n",
       "932                27.70     Weekend             4859.08  "
      ]
     },
     "execution_count": 10,
     "metadata": {},
     "output_type": "execute_result"
    }
   ],
   "source": [
    "train_set.sample(10)"
   ]
  },
  {
   "cell_type": "code",
   "execution_count": 14,
   "id": "b14654fb-eeb9-450f-a3aa-3fba3d32b7c0",
   "metadata": {},
   "outputs": [
    {
     "data": {
      "text/plain": [
       "pandas.core.frame.DataFrame"
      ]
     },
     "execution_count": 14,
     "metadata": {},
     "output_type": "execute_result"
    }
   ],
   "source": [
    "## check the type of train set\n",
    "type(train_set)"
   ]
  },
  {
   "cell_type": "code",
   "execution_count": 13,
   "id": "1af8adb3-c93f-4186-bddc-e2d945fcdf1c",
   "metadata": {},
   "outputs": [
    {
     "data": {
      "text/plain": [
       "Index(['Building Type', 'Square Footage', 'Number of Occupants',\n",
       "       'Appliances Used', 'Average Temperature', 'Day of Week',\n",
       "       'Energy Consumption'],\n",
       "      dtype='object')"
      ]
     },
     "execution_count": 13,
     "metadata": {},
     "output_type": "execute_result"
    }
   ],
   "source": [
    "## check the features of dataset\n",
    "train_set.keys()"
   ]
  },
  {
   "cell_type": "code",
   "execution_count": 16,
   "id": "f0819ca6-548a-4ca2-837a-7b136ed951e0",
   "metadata": {},
   "outputs": [
    {
     "name": "stdout",
     "output_type": "stream",
     "text": [
      "<class 'pandas.core.frame.DataFrame'>\n",
      "RangeIndex: 1000 entries, 0 to 999\n",
      "Data columns (total 7 columns):\n",
      " #   Column               Non-Null Count  Dtype  \n",
      "---  ------               --------------  -----  \n",
      " 0   Building Type        1000 non-null   object \n",
      " 1   Square Footage       1000 non-null   int64  \n",
      " 2   Number of Occupants  1000 non-null   int64  \n",
      " 3   Appliances Used      1000 non-null   int64  \n",
      " 4   Average Temperature  1000 non-null   float64\n",
      " 5   Day of Week          1000 non-null   object \n",
      " 6   Energy Consumption   1000 non-null   float64\n",
      "dtypes: float64(2), int64(3), object(2)\n",
      "memory usage: 54.8+ KB\n"
     ]
    }
   ],
   "source": [
    "## Get the information of train set\n",
    "train_set.info()"
   ]
  },
  {
   "cell_type": "code",
   "execution_count": 21,
   "id": "6206b65d-e5aa-4d6d-9374-ae295d35ccae",
   "metadata": {},
   "outputs": [],
   "source": [
    "## check the the value counts of the  categorical attributes"
   ]
  },
  {
   "cell_type": "code",
   "execution_count": 22,
   "id": "48b0571f-b50d-4c9e-8f61-431721507187",
   "metadata": {},
   "outputs": [
    {
     "data": {
      "text/plain": [
       "Building Type\n",
       "Residential    347\n",
       "Commercial     336\n",
       "Industrial     317\n",
       "Name: count, dtype: int64"
      ]
     },
     "execution_count": 22,
     "metadata": {},
     "output_type": "execute_result"
    }
   ],
   "source": [
    "train_set['Building Type'].value_counts()"
   ]
  },
  {
   "cell_type": "code",
   "execution_count": 20,
   "id": "f635e415-dcac-41a7-8186-0d3e112d3680",
   "metadata": {},
   "outputs": [
    {
     "data": {
      "text/plain": [
       "Day of Week\n",
       "Weekday    507\n",
       "Weekend    493\n",
       "Name: count, dtype: int64"
      ]
     },
     "execution_count": 20,
     "metadata": {},
     "output_type": "execute_result"
    }
   ],
   "source": [
    "train_set['Day of Week'].value_counts()"
   ]
  },
  {
   "cell_type": "code",
   "execution_count": 27,
   "id": "f7c5c928-dd20-42ff-8081-47f82c8c2aa6",
   "metadata": {},
   "outputs": [
    {
     "data": {
      "text/html": [
       "<div>\n",
       "<style scoped>\n",
       "    .dataframe tbody tr th:only-of-type {\n",
       "        vertical-align: middle;\n",
       "    }\n",
       "\n",
       "    .dataframe tbody tr th {\n",
       "        vertical-align: top;\n",
       "    }\n",
       "\n",
       "    .dataframe thead th {\n",
       "        text-align: right;\n",
       "    }\n",
       "</style>\n",
       "<table border=\"1\" class=\"dataframe\">\n",
       "  <thead>\n",
       "    <tr style=\"text-align: right;\">\n",
       "      <th></th>\n",
       "      <th>Square Footage</th>\n",
       "      <th>Number of Occupants</th>\n",
       "      <th>Appliances Used</th>\n",
       "      <th>Average Temperature</th>\n",
       "      <th>Energy Consumption</th>\n",
       "    </tr>\n",
       "  </thead>\n",
       "  <tbody>\n",
       "    <tr>\n",
       "      <th>count</th>\n",
       "      <td>1000.000</td>\n",
       "      <td>1000.000000</td>\n",
       "      <td>1000.000000</td>\n",
       "      <td>1000.000000</td>\n",
       "      <td>1000.000000</td>\n",
       "    </tr>\n",
       "    <tr>\n",
       "      <th>mean</th>\n",
       "      <td>25462.388</td>\n",
       "      <td>48.372000</td>\n",
       "      <td>25.606000</td>\n",
       "      <td>22.611390</td>\n",
       "      <td>4166.252570</td>\n",
       "    </tr>\n",
       "    <tr>\n",
       "      <th>std</th>\n",
       "      <td>14294.554</td>\n",
       "      <td>29.061972</td>\n",
       "      <td>14.105166</td>\n",
       "      <td>7.139943</td>\n",
       "      <td>933.313064</td>\n",
       "    </tr>\n",
       "    <tr>\n",
       "      <th>min</th>\n",
       "      <td>560.000</td>\n",
       "      <td>1.000000</td>\n",
       "      <td>1.000000</td>\n",
       "      <td>10.050000</td>\n",
       "      <td>1683.950000</td>\n",
       "    </tr>\n",
       "    <tr>\n",
       "      <th>25%</th>\n",
       "      <td>13169.750</td>\n",
       "      <td>22.000000</td>\n",
       "      <td>13.000000</td>\n",
       "      <td>16.475000</td>\n",
       "      <td>3509.482500</td>\n",
       "    </tr>\n",
       "    <tr>\n",
       "      <th>50%</th>\n",
       "      <td>25477.000</td>\n",
       "      <td>47.000000</td>\n",
       "      <td>26.000000</td>\n",
       "      <td>22.815000</td>\n",
       "      <td>4175.730000</td>\n",
       "    </tr>\n",
       "    <tr>\n",
       "      <th>75%</th>\n",
       "      <td>37446.250</td>\n",
       "      <td>73.250000</td>\n",
       "      <td>38.000000</td>\n",
       "      <td>28.850000</td>\n",
       "      <td>4863.850000</td>\n",
       "    </tr>\n",
       "    <tr>\n",
       "      <th>max</th>\n",
       "      <td>49997.000</td>\n",
       "      <td>99.000000</td>\n",
       "      <td>49.000000</td>\n",
       "      <td>34.990000</td>\n",
       "      <td>6530.600000</td>\n",
       "    </tr>\n",
       "  </tbody>\n",
       "</table>\n",
       "</div>"
      ],
      "text/plain": [
       "       Square Footage  Number of Occupants  Appliances Used  \\\n",
       "count        1000.000          1000.000000      1000.000000   \n",
       "mean        25462.388            48.372000        25.606000   \n",
       "std         14294.554            29.061972        14.105166   \n",
       "min           560.000             1.000000         1.000000   \n",
       "25%         13169.750            22.000000        13.000000   \n",
       "50%         25477.000            47.000000        26.000000   \n",
       "75%         37446.250            73.250000        38.000000   \n",
       "max         49997.000            99.000000        49.000000   \n",
       "\n",
       "       Average Temperature  Energy Consumption  \n",
       "count          1000.000000         1000.000000  \n",
       "mean             22.611390         4166.252570  \n",
       "std               7.139943          933.313064  \n",
       "min              10.050000         1683.950000  \n",
       "25%              16.475000         3509.482500  \n",
       "50%              22.815000         4175.730000  \n",
       "75%              28.850000         4863.850000  \n",
       "max              34.990000         6530.600000  "
      ]
     },
     "execution_count": 27,
     "metadata": {},
     "output_type": "execute_result"
    }
   ],
   "source": [
    "## Summerizing the stat\n",
    "train_set_describe=train_set.describe()\n",
    "train_set_describe"
   ]
  },
  {
   "cell_type": "code",
   "execution_count": 28,
   "id": "7a632f2d-37c0-462b-b932-8759688e88df",
   "metadata": {},
   "outputs": [
    {
     "data": {
      "text/plain": [
       "Building Type          0\n",
       "Square Footage         0\n",
       "Number of Occupants    0\n",
       "Appliances Used        0\n",
       "Average Temperature    0\n",
       "Day of Week            0\n",
       "Energy Consumption     0\n",
       "dtype: int64"
      ]
     },
     "execution_count": 28,
     "metadata": {},
     "output_type": "execute_result"
    }
   ],
   "source": [
    "## checking the missing values\n",
    "train_set.isnull().sum()"
   ]
  },
  {
   "cell_type": "markdown",
   "id": "48ba3faa-833d-48d5-9a67-a26eb58ca60f",
   "metadata": {},
   "source": [
    "## EDA (Explotary Data Analysis)"
   ]
  },
  {
   "cell_type": "code",
   "execution_count": 30,
   "id": "f82cee90-8fcd-4882-a4b1-36ef43cd8c00",
   "metadata": {},
   "outputs": [
    {
     "data": {
      "text/html": [
       "<div>\n",
       "<style scoped>\n",
       "    .dataframe tbody tr th:only-of-type {\n",
       "        vertical-align: middle;\n",
       "    }\n",
       "\n",
       "    .dataframe tbody tr th {\n",
       "        vertical-align: top;\n",
       "    }\n",
       "\n",
       "    .dataframe thead th {\n",
       "        text-align: right;\n",
       "    }\n",
       "</style>\n",
       "<table border=\"1\" class=\"dataframe\">\n",
       "  <thead>\n",
       "    <tr style=\"text-align: right;\">\n",
       "      <th></th>\n",
       "      <th>Square Footage</th>\n",
       "      <th>Number of Occupants</th>\n",
       "      <th>Appliances Used</th>\n",
       "      <th>Average Temperature</th>\n",
       "      <th>Energy Consumption</th>\n",
       "    </tr>\n",
       "  </thead>\n",
       "  <tbody>\n",
       "    <tr>\n",
       "      <th>Square Footage</th>\n",
       "      <td>1.000000</td>\n",
       "      <td>-0.386668</td>\n",
       "      <td>-0.428792</td>\n",
       "      <td>-0.445557</td>\n",
       "      <td>0.915955</td>\n",
       "    </tr>\n",
       "    <tr>\n",
       "      <th>Number of Occupants</th>\n",
       "      <td>-0.386668</td>\n",
       "      <td>1.000000</td>\n",
       "      <td>0.998921</td>\n",
       "      <td>0.997814</td>\n",
       "      <td>-0.406413</td>\n",
       "    </tr>\n",
       "    <tr>\n",
       "      <th>Appliances Used</th>\n",
       "      <td>-0.428792</td>\n",
       "      <td>0.998921</td>\n",
       "      <td>1.000000</td>\n",
       "      <td>0.999783</td>\n",
       "      <td>-0.442522</td>\n",
       "    </tr>\n",
       "    <tr>\n",
       "      <th>Average Temperature</th>\n",
       "      <td>-0.445557</td>\n",
       "      <td>0.997814</td>\n",
       "      <td>0.999783</td>\n",
       "      <td>1.000000</td>\n",
       "      <td>-0.453840</td>\n",
       "    </tr>\n",
       "    <tr>\n",
       "      <th>Energy Consumption</th>\n",
       "      <td>0.915955</td>\n",
       "      <td>-0.406413</td>\n",
       "      <td>-0.442522</td>\n",
       "      <td>-0.453840</td>\n",
       "      <td>1.000000</td>\n",
       "    </tr>\n",
       "  </tbody>\n",
       "</table>\n",
       "</div>"
      ],
      "text/plain": [
       "                     Square Footage  Number of Occupants  Appliances Used  \\\n",
       "Square Footage             1.000000            -0.386668        -0.428792   \n",
       "Number of Occupants       -0.386668             1.000000         0.998921   \n",
       "Appliances Used           -0.428792             0.998921         1.000000   \n",
       "Average Temperature       -0.445557             0.997814         0.999783   \n",
       "Energy Consumption         0.915955            -0.406413        -0.442522   \n",
       "\n",
       "                     Average Temperature  Energy Consumption  \n",
       "Square Footage                 -0.445557            0.915955  \n",
       "Number of Occupants             0.997814           -0.406413  \n",
       "Appliances Used                 0.999783           -0.442522  \n",
       "Average Temperature             1.000000           -0.453840  \n",
       "Energy Consumption             -0.453840            1.000000  "
      ]
     },
     "execution_count": 30,
     "metadata": {},
     "output_type": "execute_result"
    }
   ],
   "source": [
    "## check correlation  between independent features and dependent feature\n",
    "train_set_correlation=train_set_describe.corr()\n",
    "train_set_correlation"
   ]
  },
  {
   "cell_type": "code",
   "execution_count": null,
   "id": "710c7b25-8a03-42f3-97f3-99b0c8b5180c",
   "metadata": {},
   "outputs": [],
   "source": []
  }
 ],
 "metadata": {
  "kernelspec": {
   "display_name": "Python 3 (ipykernel)",
   "language": "python",
   "name": "python3"
  },
  "language_info": {
   "codemirror_mode": {
    "name": "ipython",
    "version": 3
   },
   "file_extension": ".py",
   "mimetype": "text/x-python",
   "name": "python",
   "nbconvert_exporter": "python",
   "pygments_lexer": "ipython3",
   "version": "3.12.1"
  }
 },
 "nbformat": 4,
 "nbformat_minor": 5
}
